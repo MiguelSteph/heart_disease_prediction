{
 "cells": [
  {
   "cell_type": "code",
   "execution_count": 1,
   "metadata": {},
   "outputs": [],
   "source": [
    "import numpy as np\n",
    "import pandas as pd"
   ]
  },
  {
   "cell_type": "code",
   "execution_count": 2,
   "metadata": {},
   "outputs": [
    {
     "name": "stdout",
     "output_type": "stream",
     "text": [
      "<class 'pandas.core.frame.DataFrame'>\n",
      "RangeIndex: 303 entries, 0 to 302\n",
      "Data columns (total 14 columns):\n",
      "age         303 non-null float64\n",
      "sex         303 non-null float64\n",
      "cp          303 non-null float64\n",
      "trestbps    303 non-null float64\n",
      "chol        303 non-null float64\n",
      "fbs         303 non-null float64\n",
      "restecg     303 non-null float64\n",
      "thalach     303 non-null float64\n",
      "exang       303 non-null float64\n",
      "oldpeak     303 non-null float64\n",
      "slope       303 non-null float64\n",
      "ca          299 non-null float64\n",
      "thal        301 non-null float64\n",
      "num         303 non-null int64\n",
      "dtypes: float64(13), int64(1)\n",
      "memory usage: 33.2 KB\n",
      "None\n",
      "    age  sex   cp  trestbps   chol  fbs  restecg  thalach  exang  oldpeak  \\\n",
      "0  63.0  1.0  1.0     145.0  233.0  1.0      2.0    150.0    0.0      2.3   \n",
      "1  67.0  1.0  4.0     160.0  286.0  0.0      2.0    108.0    1.0      1.5   \n",
      "2  67.0  1.0  4.0     120.0  229.0  0.0      2.0    129.0    1.0      2.6   \n",
      "3  37.0  1.0  3.0     130.0  250.0  0.0      0.0    187.0    0.0      3.5   \n",
      "4  41.0  0.0  2.0     130.0  204.0  0.0      2.0    172.0    0.0      1.4   \n",
      "\n",
      "   slope   ca  thal  num  \n",
      "0    3.0  0.0   6.0    0  \n",
      "1    2.0  3.0   3.0    2  \n",
      "2    2.0  2.0   7.0    1  \n",
      "3    3.0  0.0   3.0    0  \n",
      "4    1.0  0.0   3.0    0  \n"
     ]
    }
   ],
   "source": [
    "datasetPath = '../data/processed.cleveland.data'\n",
    "colname = ['age', 'sex', 'cp', 'trestbps', 'chol', 'fbs', 'restecg', 'thalach', \n",
    "           'exang', 'oldpeak', 'slope', 'ca', 'thal', 'num']\n",
    "rawDataDf = pd.read_csv(datasetPath, header=None, names=colname, na_values=['?'])\n",
    "print(rawDataDf.info())\n",
    "print(rawDataDf.head())"
   ]
  },
  {
   "cell_type": "code",
   "execution_count": 3,
   "metadata": {},
   "outputs": [
    {
     "name": "stdout",
     "output_type": "stream",
     "text": [
      "Number of rows that contains at least on mising value: 6\n"
     ]
    }
   ],
   "source": [
    "#Count Missing value\n",
    "rowWithMissingValue = (rawDataDf.isna()\n",
    "                       .sum(axis = 1)\n",
    "                       .apply(lambda x : int(x != 0))\n",
    "                       .sum()\n",
    "                      )\n",
    "print(\"Number of rows that contains at least on mising value: {}\".format(rowWithMissingValue))"
   ]
  },
  {
   "cell_type": "code",
   "execution_count": 4,
   "metadata": {},
   "outputs": [
    {
     "name": "stdout",
     "output_type": "stream",
     "text": [
      "<class 'pandas.core.frame.DataFrame'>\n",
      "Int64Index: 297 entries, 0 to 301\n",
      "Data columns (total 14 columns):\n",
      "age         297 non-null float64\n",
      "sex         297 non-null float64\n",
      "cp          297 non-null float64\n",
      "trestbps    297 non-null float64\n",
      "chol        297 non-null float64\n",
      "fbs         297 non-null float64\n",
      "restecg     297 non-null float64\n",
      "thalach     297 non-null float64\n",
      "exang       297 non-null float64\n",
      "oldpeak     297 non-null float64\n",
      "slope       297 non-null float64\n",
      "ca          297 non-null float64\n",
      "thal        297 non-null float64\n",
      "num         297 non-null int64\n",
      "dtypes: float64(13), int64(1)\n",
      "memory usage: 34.8 KB\n",
      "None\n"
     ]
    }
   ],
   "source": [
    "#Remove rows that contains at least on mising value\n",
    "df_withoutMissingValue = rawDataDf.dropna()\n",
    "print(df_withoutMissingValue.info())"
   ]
  },
  {
   "cell_type": "code",
   "execution_count": 5,
   "metadata": {},
   "outputs": [
    {
     "name": "stdout",
     "output_type": "stream",
     "text": [
      "<class 'pandas.core.frame.DataFrame'>\n",
      "Int64Index: 297 entries, 0 to 301\n",
      "Data columns (total 14 columns):\n",
      "age         297 non-null int32\n",
      "sex         297 non-null int16\n",
      "cp          297 non-null int16\n",
      "trestbps    297 non-null float64\n",
      "chol        297 non-null float64\n",
      "fbs         297 non-null int16\n",
      "restecg     297 non-null int16\n",
      "thalach     297 non-null float64\n",
      "exang       297 non-null int16\n",
      "oldpeak     297 non-null float64\n",
      "slope       297 non-null int16\n",
      "ca          297 non-null int16\n",
      "thal        297 non-null int16\n",
      "num         297 non-null int16\n",
      "dtypes: float64(4), int16(9), int32(1)\n",
      "memory usage: 18.0 KB\n",
      "None\n",
      "   age  sex  cp  trestbps   chol  fbs  restecg  thalach  exang  oldpeak  \\\n",
      "0   63    1   1     145.0  233.0    1        2    150.0      0      2.3   \n",
      "1   67    1   4     160.0  286.0    0        2    108.0      1      1.5   \n",
      "2   67    1   4     120.0  229.0    0        2    129.0      1      2.6   \n",
      "3   37    1   3     130.0  250.0    0        0    187.0      0      3.5   \n",
      "4   41    0   2     130.0  204.0    0        2    172.0      0      1.4   \n",
      "\n",
      "   slope  ca  thal  num  \n",
      "0      3   0     6    0  \n",
      "1      2   3     3    2  \n",
      "2      2   2     7    1  \n",
      "3      3   0     3    0  \n",
      "4      1   0     3    0  \n"
     ]
    }
   ],
   "source": [
    "colDType = {'age': np.int32, 'sex': np.int16, 'cp': np.int16, 'fbs': np.int16, 'restecg': np.int16, \n",
    "           'exang': np.int16, 'slope':np.int16, 'ca': np.int16, 'thal':np.int16, 'num':np.int16}\n",
    "convertedDf = df_withoutMissingValue.astype(colDType)\n",
    "print(convertedDf.info())\n",
    "print(convertedDf.head())"
   ]
  },
  {
   "cell_type": "code",
   "execution_count": 6,
   "metadata": {},
   "outputs": [
    {
     "name": "stdout",
     "output_type": "stream",
     "text": [
      "   age  sex  cp  trestbps   chol  fbs  restecg  thalach  exang  oldpeak  \\\n",
      "0   63    1   1     145.0  233.0    1        2    150.0      0      2.3   \n",
      "1   67    1   4     160.0  286.0    0        2    108.0      1      1.5   \n",
      "2   67    1   4     120.0  229.0    0        2    129.0      1      2.6   \n",
      "3   37    1   3     130.0  250.0    0        0    187.0      0      3.5   \n",
      "4   41    0   2     130.0  204.0    0        2    172.0      0      1.4   \n",
      "\n",
      "   slope  ca  thal  num  \n",
      "0      3   0     6    0  \n",
      "1      2   3     3    1  \n",
      "2      2   2     7    1  \n",
      "3      3   0     3    0  \n",
      "4      1   0     3    0  \n"
     ]
    }
   ],
   "source": [
    "#Change num col to be 0 when no heart disease and 1 when heart disease\n",
    "convertedDf.num = convertedDf.num.apply(lambda x : int(x > 0))\n",
    "print(convertedDf.head())"
   ]
  },
  {
   "cell_type": "code",
   "execution_count": 23,
   "metadata": {},
   "outputs": [
    {
     "name": "stdout",
     "output_type": "stream",
     "text": [
      "<class 'pandas.core.frame.DataFrame'>\n",
      "Int64Index: 0 entries\n",
      "Data columns (total 14 columns):\n",
      "age         0 non-null int32\n",
      "sex         0 non-null int16\n",
      "cp          0 non-null int16\n",
      "trestbps    0 non-null float64\n",
      "chol        0 non-null float64\n",
      "fbs         0 non-null int16\n",
      "restecg     0 non-null int16\n",
      "thalach     0 non-null float64\n",
      "exang       0 non-null int16\n",
      "oldpeak     0 non-null float64\n",
      "slope       0 non-null int16\n",
      "ca          0 non-null int16\n",
      "thal        0 non-null int16\n",
      "num         0 non-null int64\n",
      "dtypes: float64(4), int16(8), int32(1), int64(1)\n",
      "memory usage: 0.0 bytes\n",
      "None\n"
     ]
    }
   ],
   "source": [
    "#Sanity check\n",
    "\n",
    "#3 (age)\n",
    "#4 (sex) (0 = female, 1 = male)\n",
    "#9 (cp) cp: chest pain type -- 1: typical angina -- 2: atypical angina -- 3: non-anginal pain -- 4: asymptomatic\n",
    "#10 (trestbps) trestbps: resting blood pressure (in mm Hg on admission to the hospital)\n",
    "#12 (chol) chol: serum cholesterol in mg/dl\n",
    "#16 (fbs) fbs: (fasting blood sugar > 120 mg/dl) (1 = true; 0 = false)\n",
    "#19 (restecg) restecg: resting electrocardiographic results -- Value 0: normal -- Value 1: having ST-T wave abnormality (T wave inversions and/or ST elevation or depression of > 0.05 mV) -- Value 2: showing probable or definite left ventricular hypertrophy by Estes' criteria\n",
    "#32 (thalach) halach: maximum heart rate achieved\n",
    "#38 (exang) exercise induced angina (1 = yes; 0 = no)\n",
    "#40 (oldpeak) oldpeak = ST depression induced by exercise relative to rest\n",
    "#41 (slope) slope: the slope of the peak exercise ST segment -- Value 1: upsloping -- Value 2: flat -- Value 3: downsloping\n",
    "#44 (ca) ca: number of major vessels (0-3) colored by flourosopy\n",
    "#51 (thal) thaldur: duration of exercise test in minutes\n",
    "badRowsIndexes = ((convertedDf.age <= 0) |                # Age smaller or equal to zero \n",
    "                 (~convertedDf.sex.isin([0, 1])) |        # sex is not in predefined values\n",
    "                 (~convertedDf.cp.isin([1, 2, 3, 4])) |   # cp is no in the predefined value\n",
    "                 (convertedDf.trestbps < 0) |             # Blood pressure smaller than zero\n",
    "                 (convertedDf.chol < 0) |                 # Serum cholesterol smaller than zero\n",
    "                 (~convertedDf.fbs.isin([0, 1])) |        # fsb not in predefined values\n",
    "                 (~convertedDf.restecg.isin([0, 1, 2])) | # restecg not in predefined values\n",
    "                 (convertedDf.thalach < 0) |              # thalach is smaller than zero\n",
    "                 (~convertedDf.exang.isin([0, 1])) |      # exang not in predefined value\n",
    "                 (convertedDf.oldpeak < 0) |              # oldpeak smaller than zero\n",
    "                 (~convertedDf.slope.isin([1, 2, 3])) |   # slope not in predefined value\n",
    "                 (~convertedDf.ca.isin([0, 1, 2, 3])) |   # ca not in predefined values\n",
    "                 (convertedDf.thal < 0))                  # thal smaller than zero\n",
    "badRows = convertedDf.loc[badRowsIndexes]\n",
    "print(badRows.info())\n"
   ]
  },
  {
   "cell_type": "code",
   "execution_count": 24,
   "metadata": {},
   "outputs": [
    {
     "name": "stdout",
     "output_type": "stream",
     "text": [
      "<class 'pandas.core.frame.DataFrame'>\n",
      "Int64Index: 297 entries, 0 to 301\n",
      "Data columns (total 21 columns):\n",
      "age                      297 non-null int32\n",
      "sex                      297 non-null int16\n",
      "trestbps                 297 non-null float64\n",
      "chol                     297 non-null float64\n",
      "fbs                      297 non-null int16\n",
      "thalach                  297 non-null float64\n",
      "exang                    297 non-null int16\n",
      "oldpeak                  297 non-null float64\n",
      "ca                       297 non-null int16\n",
      "thal                     297 non-null int16\n",
      "num                      297 non-null int64\n",
      "isTypicalAngineCp        297 non-null int64\n",
      "isATypicalAngineCp       297 non-null int64\n",
      "isNonAnginalPainCp       297 non-null int64\n",
      "isAsymptomaticCp         297 non-null int64\n",
      "isNormalRestecg          297 non-null int64\n",
      "hasStWaveRestecg         297 non-null int64\n",
      "hasHypertrophyRestecg    297 non-null int64\n",
      "isUpSlopping             297 non-null int64\n",
      "isFlatSlop               297 non-null int64\n",
      "isDownSlopping           297 non-null int64\n",
      "dtypes: float64(4), int16(5), int32(1), int64(11)\n",
      "memory usage: 41.2 KB\n",
      "None\n",
      "   age  sex  trestbps   chol  fbs  thalach  exang  oldpeak  ca  thal  \\\n",
      "0   63    1     145.0  233.0    1    150.0      0      2.3   0     6   \n",
      "1   67    1     160.0  286.0    0    108.0      1      1.5   3     3   \n",
      "2   67    1     120.0  229.0    0    129.0      1      2.6   2     7   \n",
      "3   37    1     130.0  250.0    0    187.0      0      3.5   0     3   \n",
      "4   41    0     130.0  204.0    0    172.0      0      1.4   0     3   \n",
      "\n",
      "        ...        isTypicalAngineCp  isATypicalAngineCp  isNonAnginalPainCp  \\\n",
      "0       ...                        1                   0                   0   \n",
      "1       ...                        0                   0                   0   \n",
      "2       ...                        0                   0                   0   \n",
      "3       ...                        0                   0                   1   \n",
      "4       ...                        0                   1                   0   \n",
      "\n",
      "   isAsymptomaticCp  isNormalRestecg  hasStWaveRestecg  hasHypertrophyRestecg  \\\n",
      "0                 0                0                 0                      1   \n",
      "1                 1                0                 0                      1   \n",
      "2                 1                0                 0                      1   \n",
      "3                 0                1                 0                      0   \n",
      "4                 0                0                 0                      1   \n",
      "\n",
      "   isUpSlopping  isFlatSlop  isDownSlopping  \n",
      "0             0           0               1  \n",
      "1             0           1               0  \n",
      "2             0           1               0  \n",
      "3             0           0               1  \n",
      "4             1           0               0  \n",
      "\n",
      "[5 rows x 21 columns]\n"
     ]
    }
   ],
   "source": [
    "#Explode categorical features into {0, 1} values\n",
    "\n",
    "#9 (cp) cp: chest pain type -- 1: typical angina -- 2: atypical angina -- 3: non-anginal pain -- 4: asymptomatic\n",
    "convertedDf['isTypicalAngineCp'] = convertedDf.cp.apply(lambda x: int(x == 1))\n",
    "convertedDf['isATypicalAngineCp'] = convertedDf.cp.apply(lambda x: int(x == 2))\n",
    "convertedDf['isNonAnginalPainCp'] = convertedDf.cp.apply(lambda x: int(x == 3))\n",
    "convertedDf['isAsymptomaticCp'] = convertedDf.cp.apply(lambda x: int(x == 4))\n",
    "\n",
    "#19 (restecg) restecg: resting electrocardiographic results -- Value 0: normal -- Value 1: having ST-T wave abnormality (T wave inversions and/or ST elevation or depression of > 0.05 mV) -- Value 2: showing probable or definite left ventricular hypertrophy by Estes' criteria\n",
    "convertedDf['isNormalRestecg'] = convertedDf.restecg.apply(lambda x: int(x == 0))\n",
    "convertedDf['hasStWaveRestecg'] = convertedDf.restecg.apply(lambda x: int(x == 1))\n",
    "convertedDf['hasHypertrophyRestecg'] = convertedDf.restecg.apply(lambda x: int(x == 2))\n",
    "\n",
    "#41 (slope) slope: the slope of the peak exercise ST segment -- Value 1: upsloping -- Value 2: flat -- Value 3: downsloping\n",
    "convertedDf['isUpSlopping'] = convertedDf.slope.apply(lambda x: int(x == 1))\n",
    "convertedDf['isFlatSlop'] = convertedDf.slope.apply(lambda x: int(x == 2))\n",
    "convertedDf['isDownSlopping'] = convertedDf.slope.apply(lambda x: int(x == 3))\n",
    "\n",
    "#Clean the original columns\n",
    "explodedDataSetDf = convertedDf.drop(columns=['cp', 'restecg', 'slope'])\n",
    "print(explodedDataSetDf.info())\n",
    "print(explodedDataSetDf.head())"
   ]
  },
  {
   "cell_type": "code",
   "execution_count": null,
   "metadata": {},
   "outputs": [],
   "source": []
  }
 ],
 "metadata": {
  "kernelspec": {
   "display_name": "Python 3",
   "language": "python",
   "name": "python3"
  },
  "language_info": {
   "codemirror_mode": {
    "name": "ipython",
    "version": 3
   },
   "file_extension": ".py",
   "mimetype": "text/x-python",
   "name": "python",
   "nbconvert_exporter": "python",
   "pygments_lexer": "ipython3",
   "version": "3.7.0"
  }
 },
 "nbformat": 4,
 "nbformat_minor": 2
}
